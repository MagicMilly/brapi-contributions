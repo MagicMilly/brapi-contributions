{
 "cells": [
  {
   "cell_type": "code",
   "execution_count": 1,
   "metadata": {},
   "outputs": [],
   "source": [
    "import json\n",
    "import numpy as np\n",
    "import pandas as pd\n",
    "import requests"
   ]
  },
  {
   "cell_type": "markdown",
   "metadata": {},
   "source": [
    "### ontologies.json\n",
    "- traits annotated by Laurel Cooper"
   ]
  },
  {
   "cell_type": "code",
   "execution_count": 3,
   "metadata": {},
   "outputs": [
    {
     "name": "stdout",
     "output_type": "stream",
     "text": [
      "(85, 13)\n"
     ]
    },
    {
     "data": {
      "text/html": [
       "<div>\n",
       "<style scoped>\n",
       "    .dataframe tbody tr th:only-of-type {\n",
       "        vertical-align: middle;\n",
       "    }\n",
       "\n",
       "    .dataframe tbody tr th {\n",
       "        vertical-align: top;\n",
       "    }\n",
       "\n",
       "    .dataframe thead th {\n",
       "        text-align: right;\n",
       "    }\n",
       "</style>\n",
       "<table border=\"1\" class=\"dataframe\">\n",
       "  <thead>\n",
       "    <tr style=\"text-align: right;\">\n",
       "      <th></th>\n",
       "      <th>Variable</th>\n",
       "      <th>Variable Description</th>\n",
       "      <th>Units</th>\n",
       "      <th>Method Name 1</th>\n",
       "      <th>Method Name 2</th>\n",
       "      <th>Trait Ontology Identifier (TO:ID)</th>\n",
       "      <th>termId</th>\n",
       "      <th>TO label</th>\n",
       "      <th>Comments/Notes</th>\n",
       "      <th>CO_324 ID</th>\n",
       "      <th>CO_324 label</th>\n",
       "      <th>Comments/Notes.1</th>\n",
       "      <th>coPermalink</th>\n",
       "    </tr>\n",
       "  </thead>\n",
       "  <tbody>\n",
       "    <tr>\n",
       "      <th>0</th>\n",
       "      <td>days_to_emergence</td>\n",
       "      <td>Planting date: 2017-04-20</td>\n",
       "      <td>days</td>\n",
       "      <td>NaN</td>\n",
       "      <td>NaN</td>\n",
       "      <td>TO:0006061</td>\n",
       "      <td>http://purl.obolibrary.org/obo/TO_0006061</td>\n",
       "      <td>days to germinate</td>\n",
       "      <td>related</td>\n",
       "      <td>NaN</td>\n",
       "      <td>NaN</td>\n",
       "      <td>NaN</td>\n",
       "      <td>NaN</td>\n",
       "    </tr>\n",
       "    <tr>\n",
       "      <th>1</th>\n",
       "      <td>emergence_count</td>\n",
       "      <td>number of plants counted within plot or subplo...</td>\n",
       "      <td>count</td>\n",
       "      <td>plant emergence counts</td>\n",
       "      <td>NaN</td>\n",
       "      <td>TO:0000202</td>\n",
       "      <td>http://purl.obolibrary.org/obo/TO_0000202</td>\n",
       "      <td>germination ratio</td>\n",
       "      <td>related</td>\n",
       "      <td>CO_324:0000486</td>\n",
       "      <td>sorghum plant number - counting method</td>\n",
       "      <td>related</td>\n",
       "      <td>http://www.cropontology.org/terms/CO_324:00004...</td>\n",
       "    </tr>\n",
       "    <tr>\n",
       "      <th>2</th>\n",
       "      <td>seedling_emergence_rate</td>\n",
       "      <td>Seedling emergence rate</td>\n",
       "      <td>ratio</td>\n",
       "      <td>Seedling emergence rate count</td>\n",
       "      <td>NaN</td>\n",
       "      <td>TO:0000430</td>\n",
       "      <td>http://purl.obolibrary.org/obo/TO_0000430</td>\n",
       "      <td>germination rate</td>\n",
       "      <td>related</td>\n",
       "      <td>NaN</td>\n",
       "      <td>NaN</td>\n",
       "      <td>NaN</td>\n",
       "      <td>NaN</td>\n",
       "    </tr>\n",
       "    <tr>\n",
       "      <th>3</th>\n",
       "      <td>flag_leaf_emergence_time</td>\n",
       "      <td>Number of days from sowing to the date when 50...</td>\n",
       "      <td>days</td>\n",
       "      <td>Visual classification of sorghum growth stages...</td>\n",
       "      <td>NaN</td>\n",
       "      <td>TO:0001008</td>\n",
       "      <td>http://purl.obolibrary.org/obo/TO_0001008</td>\n",
       "      <td>days to flag leaf emergence</td>\n",
       "      <td>exact</td>\n",
       "      <td>CO_324:0000274</td>\n",
       "      <td>sorghum flag leaf ligulation time trait</td>\n",
       "      <td>exact</td>\n",
       "      <td>https://www.cropontology.org/terms/CO_324:0000...</td>\n",
       "    </tr>\n",
       "    <tr>\n",
       "      <th>4</th>\n",
       "      <td>aboveground_dry_biomass</td>\n",
       "      <td>Aboveground dry biomass</td>\n",
       "      <td>kg / ha</td>\n",
       "      <td>Whole above ground biomass at harvest</td>\n",
       "      <td>NaN</td>\n",
       "      <td>TO:0000327\\n</td>\n",
       "      <td>http://purl.obolibrary.org/obo/TO_0000327</td>\n",
       "      <td>shoot system yield trait\\n</td>\n",
       "      <td>subclass</td>\n",
       "      <td>CO_324:0000553</td>\n",
       "      <td>sorghum whole above ground biomass yield at ha...</td>\n",
       "      <td>NaN</td>\n",
       "      <td>https://www.cropontology.org/terms/CO_324:0000...</td>\n",
       "    </tr>\n",
       "  </tbody>\n",
       "</table>\n",
       "</div>"
      ],
      "text/plain": [
       "                   Variable  \\\n",
       "0         days_to_emergence   \n",
       "1           emergence_count   \n",
       "2   seedling_emergence_rate   \n",
       "3  flag_leaf_emergence_time   \n",
       "4   aboveground_dry_biomass   \n",
       "\n",
       "                                Variable Description    Units  \\\n",
       "0                          Planting date: 2017-04-20     days   \n",
       "1  number of plants counted within plot or subplo...    count   \n",
       "2                            Seedling emergence rate    ratio   \n",
       "3  Number of days from sowing to the date when 50...     days   \n",
       "4                            Aboveground dry biomass  kg / ha   \n",
       "\n",
       "                                       Method Name 1 Method Name 2  \\\n",
       "0                                                NaN           NaN   \n",
       "1                             plant emergence counts           NaN   \n",
       "2                      Seedling emergence rate count           NaN   \n",
       "3  Visual classification of sorghum growth stages...           NaN   \n",
       "4              Whole above ground biomass at harvest           NaN   \n",
       "\n",
       "  Trait Ontology Identifier (TO:ID)  \\\n",
       "0                        TO:0006061   \n",
       "1                        TO:0000202   \n",
       "2                        TO:0000430   \n",
       "3                        TO:0001008   \n",
       "4                      TO:0000327\\n   \n",
       "\n",
       "                                      termId                     TO label  \\\n",
       "0  http://purl.obolibrary.org/obo/TO_0006061            days to germinate   \n",
       "1  http://purl.obolibrary.org/obo/TO_0000202            germination ratio   \n",
       "2  http://purl.obolibrary.org/obo/TO_0000430             germination rate   \n",
       "3  http://purl.obolibrary.org/obo/TO_0001008  days to flag leaf emergence   \n",
       "4  http://purl.obolibrary.org/obo/TO_0000327   shoot system yield trait\\n   \n",
       "\n",
       "  Comments/Notes       CO_324 ID  \\\n",
       "0        related             NaN   \n",
       "1        related  CO_324:0000486   \n",
       "2        related             NaN   \n",
       "3          exact  CO_324:0000274   \n",
       "4       subclass  CO_324:0000553   \n",
       "\n",
       "                                        CO_324 label Comments/Notes.1  \\\n",
       "0                                                NaN              NaN   \n",
       "1             sorghum plant number - counting method          related   \n",
       "2                                                NaN              NaN   \n",
       "3            sorghum flag leaf ligulation time trait            exact   \n",
       "4  sorghum whole above ground biomass yield at ha...              NaN   \n",
       "\n",
       "                                         coPermalink  \n",
       "0                                                NaN  \n",
       "1  http://www.cropontology.org/terms/CO_324:00004...  \n",
       "2                                                NaN  \n",
       "3  https://www.cropontology.org/terms/CO_324:0000...  \n",
       "4  https://www.cropontology.org/terms/CO_324:0000...  "
      ]
     },
     "execution_count": 3,
     "metadata": {},
     "output_type": "execute_result"
    }
   ],
   "source": [
    "df_0 = pd.read_csv('data/interim/ontology_annotations.csv')\n",
    "print(df_0.shape)\n",
    "df_0.head()"
   ]
  },
  {
   "cell_type": "code",
   "execution_count": 4,
   "metadata": {},
   "outputs": [
    {
     "data": {
      "text/plain": [
       "['TO:0006061', 'TO:0000202', 'TO:0000430', 'TO:0001008', 'TO:0000327\\n']"
      ]
     },
     "execution_count": 4,
     "metadata": {},
     "output_type": "execute_result"
    }
   ],
   "source": [
    "to_values = df_0['Trait Ontology Identifier (TO:ID)'].values\n",
    "new_values = []\n",
    "\n",
    "for v in to_values:\n",
    "\n",
    "    if type(v) == str:\n",
    "\n",
    "        if v.startswith('TO:'):\n",
    "            new_values.append(v)\n",
    "\n",
    "        elif v.startswith(' '):\n",
    "            new_values.append(v.strip())\n",
    "\n",
    "        elif v.str.endswith('\\n'):\n",
    "            new_values.append(v[:-1])\n",
    "\n",
    "        else:\n",
    "            print('Something is wrong.')\n",
    "\n",
    "new_values[0:5]        "
   ]
  },
  {
   "cell_type": "code",
   "execution_count": 5,
   "metadata": {},
   "outputs": [],
   "source": [
    "to_urls = []\n",
    "\n",
    "for ti in df_0.termId.values:\n",
    "    \n",
    "    if type(ti) == str:\n",
    "        \n",
    "        to_urls.append(ti)"
   ]
  },
  {
   "cell_type": "code",
   "execution_count": 6,
   "metadata": {},
   "outputs": [
    {
     "data": {
      "text/plain": [
       "33"
      ]
     },
     "execution_count": 6,
     "metadata": {},
     "output_type": "execute_result"
    }
   ],
   "source": [
    "unique_to_urls = list(set(to_urls))\n",
    "len(unique_to_urls)"
   ]
  },
  {
   "cell_type": "markdown",
   "metadata": {},
   "source": [
    "#### Elements needed \n",
    "\n",
    "- authors (leave out for now)\n",
    "- copyright\n",
    "- description\n",
    "- documentationURL\n",
    "- license\n",
    "- ontologyDbId\n",
    "- ontologyName\n",
    "- version"
   ]
  },
  {
   "cell_type": "code",
   "execution_count": 7,
   "metadata": {},
   "outputs": [
    {
     "data": {
      "text/plain": [
       "['TO_0000446', 'TO_0001004', 'TO_0000370', 'TO_0000559', 'TO_0020115']"
      ]
     },
     "execution_count": 7,
     "metadata": {},
     "output_type": "execute_result"
    }
   ],
   "source": [
    "to_terms = []\n",
    "\n",
    "for to in unique_to_urls:\n",
    "    \n",
    "    term = to[-10:]\n",
    "    to_terms.append(term)\n",
    "    \n",
    "to_terms[0:5]"
   ]
  },
  {
   "cell_type": "code",
   "execution_count": 8,
   "metadata": {},
   "outputs": [
    {
     "name": "stdout",
     "output_type": "stream",
     "text": [
      "(33, 7)\n"
     ]
    },
    {
     "data": {
      "text/html": [
       "<div>\n",
       "<style scoped>\n",
       "    .dataframe tbody tr th:only-of-type {\n",
       "        vertical-align: middle;\n",
       "    }\n",
       "\n",
       "    .dataframe tbody tr th {\n",
       "        vertical-align: top;\n",
       "    }\n",
       "\n",
       "    .dataframe thead th {\n",
       "        text-align: right;\n",
       "    }\n",
       "</style>\n",
       "<table border=\"1\" class=\"dataframe\">\n",
       "  <thead>\n",
       "    <tr style=\"text-align: right;\">\n",
       "      <th></th>\n",
       "      <th>copyright</th>\n",
       "      <th>description</th>\n",
       "      <th>documentationURL</th>\n",
       "      <th>license</th>\n",
       "      <th>ontologyDbId</th>\n",
       "      <th>ontologyName</th>\n",
       "      <th>version</th>\n",
       "    </tr>\n",
       "  </thead>\n",
       "  <tbody>\n",
       "    <tr>\n",
       "      <th>0</th>\n",
       "      <td>2000-2008 Cold Spring Harbor Laboratory and Co...</td>\n",
       "      <td>Plant Trait Ontology</td>\n",
       "      <td>http://purl.obolibrary.org/obo/TO_0000446</td>\n",
       "      <td>CC-BY 4.0</td>\n",
       "      <td>TO_0000446</td>\n",
       "      <td>Plant Trait Ontology</td>\n",
       "      <td>1.2</td>\n",
       "    </tr>\n",
       "    <tr>\n",
       "      <th>1</th>\n",
       "      <td>2000-2008 Cold Spring Harbor Laboratory and Co...</td>\n",
       "      <td>Plant Trait Ontology</td>\n",
       "      <td>http://purl.obolibrary.org/obo/TO_0001004</td>\n",
       "      <td>CC-BY 4.0</td>\n",
       "      <td>TO_0001004</td>\n",
       "      <td>Plant Trait Ontology</td>\n",
       "      <td>1.2</td>\n",
       "    </tr>\n",
       "    <tr>\n",
       "      <th>2</th>\n",
       "      <td>2000-2008 Cold Spring Harbor Laboratory and Co...</td>\n",
       "      <td>Plant Trait Ontology</td>\n",
       "      <td>http://purl.obolibrary.org/obo/TO_0000370</td>\n",
       "      <td>CC-BY 4.0</td>\n",
       "      <td>TO_0000370</td>\n",
       "      <td>Plant Trait Ontology</td>\n",
       "      <td>1.2</td>\n",
       "    </tr>\n",
       "  </tbody>\n",
       "</table>\n",
       "</div>"
      ],
      "text/plain": [
       "                                           copyright           description  \\\n",
       "0  2000-2008 Cold Spring Harbor Laboratory and Co...  Plant Trait Ontology   \n",
       "1  2000-2008 Cold Spring Harbor Laboratory and Co...  Plant Trait Ontology   \n",
       "2  2000-2008 Cold Spring Harbor Laboratory and Co...  Plant Trait Ontology   \n",
       "\n",
       "                            documentationURL    license ontologyDbId  \\\n",
       "0  http://purl.obolibrary.org/obo/TO_0000446  CC-BY 4.0   TO_0000446   \n",
       "1  http://purl.obolibrary.org/obo/TO_0001004  CC-BY 4.0   TO_0001004   \n",
       "2  http://purl.obolibrary.org/obo/TO_0000370  CC-BY 4.0   TO_0000370   \n",
       "\n",
       "           ontologyName version  \n",
       "0  Plant Trait Ontology     1.2  \n",
       "1  Plant Trait Ontology     1.2  \n",
       "2  Plant Trait Ontology     1.2  "
      ]
     },
     "execution_count": 8,
     "metadata": {},
     "output_type": "execute_result"
    }
   ],
   "source": [
    "documentationURLs = unique_to_urls\n",
    "ontologyDbIds = to_terms\n",
    "\n",
    "df = pd.DataFrame(data = {'copyright': '2000-2008 Cold Spring Harbor Laboratory and Cornell University, USA',\n",
    "                         'description': 'Plant Trait Ontology', 'documentationURL': unique_to_urls,\n",
    "                         'license': 'CC-BY 4.0', 'ontologyDbId': to_terms, 'ontologyName': 'Plant Trait Ontology',\n",
    "                         'version': '1.2'})\n",
    "\n",
    "print(df.shape)\n",
    "df.head(3)"
   ]
  },
  {
   "cell_type": "code",
   "execution_count": 9,
   "metadata": {},
   "outputs": [
    {
     "data": {
      "text/plain": [
       "[{'copyright': '2000-2008 Cold Spring Harbor Laboratory and Cornell University, USA',\n",
       "  'description': 'Plant Trait Ontology',\n",
       "  'documentationURL': 'http://purl.obolibrary.org/obo/TO_0000446',\n",
       "  'license': 'CC-BY 4.0',\n",
       "  'ontologyDbId': 'TO_0000446',\n",
       "  'ontologyName': 'Plant Trait Ontology',\n",
       "  'version': '1.2'},\n",
       " {'copyright': '2000-2008 Cold Spring Harbor Laboratory and Cornell University, USA',\n",
       "  'description': 'Plant Trait Ontology',\n",
       "  'documentationURL': 'http://purl.obolibrary.org/obo/TO_0001004',\n",
       "  'license': 'CC-BY 4.0',\n",
       "  'ontologyDbId': 'TO_0001004',\n",
       "  'ontologyName': 'Plant Trait Ontology',\n",
       "  'version': '1.2'}]"
      ]
     },
     "execution_count": 9,
     "metadata": {},
     "output_type": "execute_result"
    }
   ],
   "source": [
    "record_dict = df.to_dict(orient='records')\n",
    "record_dict[0:2]"
   ]
  },
  {
   "cell_type": "code",
   "execution_count": null,
   "metadata": {},
   "outputs": [],
   "source": []
  },
  {
   "cell_type": "markdown",
   "metadata": {},
   "source": [
    "### methods.json\n",
    "**Sources**\n",
    "- betydb API `methods` [endpoint](https://terraref.ncsa.illinois.edu/bety/api/v1/methods)"
   ]
  },
  {
   "cell_type": "code",
   "execution_count": 10,
   "metadata": {},
   "outputs": [],
   "source": [
    "url = 'https://terraref.ncsa.illinois.edu/bety/api/v1/methods'\n",
    "response = requests.get(url)"
   ]
  },
  {
   "cell_type": "code",
   "execution_count": 11,
   "metadata": {},
   "outputs": [],
   "source": [
    "response_json = response.json()\n",
    "# response_json"
   ]
  },
  {
   "cell_type": "code",
   "execution_count": 12,
   "metadata": {},
   "outputs": [
    {
     "data": {
      "text/plain": [
       "dict"
      ]
     },
     "execution_count": 12,
     "metadata": {},
     "output_type": "execute_result"
    }
   ],
   "source": [
    "type(response_json)"
   ]
  },
  {
   "cell_type": "code",
   "execution_count": 13,
   "metadata": {},
   "outputs": [
    {
     "data": {
      "text/plain": [
       "2"
      ]
     },
     "execution_count": 13,
     "metadata": {},
     "output_type": "execute_result"
    }
   ],
   "source": [
    "len(response_json)"
   ]
  },
  {
   "cell_type": "code",
   "execution_count": 14,
   "metadata": {},
   "outputs": [
    {
     "data": {
      "text/plain": [
       "dict_keys(['metadata', 'data'])"
      ]
     },
     "execution_count": 14,
     "metadata": {},
     "output_type": "execute_result"
    }
   ],
   "source": [
    "response_json.keys()"
   ]
  },
  {
   "cell_type": "code",
   "execution_count": 15,
   "metadata": {},
   "outputs": [
    {
     "data": {
      "text/plain": [
       "89"
      ]
     },
     "execution_count": 15,
     "metadata": {},
     "output_type": "execute_result"
    }
   ],
   "source": [
    "len(response_json['data'])"
   ]
  },
  {
   "cell_type": "code",
   "execution_count": 16,
   "metadata": {},
   "outputs": [
    {
     "data": {
      "text/plain": [
       "{'method': {'id': 6000000001,\n",
       "  'name': 'PlantCV',\n",
       "  'description': '',\n",
       "  'citation_id': 6000000005,\n",
       "  'created_at': '2016-10-19 16:49:41 -0500',\n",
       "  'updated_at': '2016-10-19 16:49:41 -0500',\n",
       "  'number of associated traits': 5490,\n",
       "  'number of associated yields': 0,\n",
       "  'view_url': 'https://terraref.ncsa.illinois.edu/bety/methods/6000000001',\n",
       "  'edit_url': 'https://terraref.ncsa.illinois.edu/bety/methods/6000000001/edit'}}"
      ]
     },
     "execution_count": 16,
     "metadata": {},
     "output_type": "execute_result"
    }
   ],
   "source": [
    "response_json['data'][0]"
   ]
  },
  {
   "cell_type": "markdown",
   "metadata": {},
   "source": [
    "#### Compare with methods from ontology annotations"
   ]
  },
  {
   "cell_type": "code",
   "execution_count": 17,
   "metadata": {},
   "outputs": [
    {
     "data": {
      "text/plain": [
       "28"
      ]
     },
     "execution_count": 17,
     "metadata": {},
     "output_type": "execute_result"
    }
   ],
   "source": [
    "csv_methods = df_0['Method Name 1'].unique()\n",
    "len(csv_methods)"
   ]
  },
  {
   "cell_type": "code",
   "execution_count": 18,
   "metadata": {},
   "outputs": [],
   "source": [
    "betydb_methods = []\n",
    "\n",
    "for i in range(len(response_json['data'])):\n",
    "\n",
    "    betydb_method = response_json['data'][i]['method']['name']\n",
    "    betydb_methods.append(betydb_method)"
   ]
  },
  {
   "cell_type": "code",
   "execution_count": 19,
   "metadata": {},
   "outputs": [
    {
     "data": {
      "text/plain": [
       "['PlantCV',\n",
       " '95th quantiles height Estimation from 3D Scanner',\n",
       " 'Manual canopy height',\n",
       " 'Specific Leaf Area Leaf Punch',\n",
       " 'Mature leaf length']"
      ]
     },
     "execution_count": 19,
     "metadata": {},
     "output_type": "execute_result"
    }
   ],
   "source": [
    "betydb_methods[:5]"
   ]
  },
  {
   "cell_type": "code",
   "execution_count": 20,
   "metadata": {},
   "outputs": [
    {
     "data": {
      "text/plain": [
       "89"
      ]
     },
     "execution_count": 20,
     "metadata": {},
     "output_type": "execute_result"
    }
   ],
   "source": [
    "len(set(betydb_methods))"
   ]
  },
  {
   "cell_type": "markdown",
   "metadata": {},
   "source": [
    "#### Methods response structure"
   ]
  },
  {
   "cell_type": "code",
   "execution_count": 21,
   "metadata": {},
   "outputs": [],
   "source": [
    "# \"result\": {\n",
    "#     \"data\": [\n",
    "#       {\n",
    "#         \"additionalInfo\": {\n",
    "#           \"additionalProp1\": \"string\",\n",
    "#           \"additionalProp2\": \"string\",\n",
    "#           \"additionalProp3\": \"string\"\n",
    "#         },\n",
    "#         \"bibliographicalReference\": \"Smith, 1893, Really Cool Paper, Popular Journal\",\n",
    "#         \"description\": \"A measuring tape was used\",\n",
    "#         \"externalReferences\": [\n",
    "#           {\n",
    "#             \"referenceID\": \"doi:10.155454/12341234\",\n",
    "#             \"referenceSource\": \"DOI\"\n",
    "#           },\n",
    "#           {\n",
    "#             \"referenceID\": \"http://purl.obolibrary.org/obo/ro.owl\",\n",
    "#             \"referenceSource\": \"OBO Library\"\n",
    "#           },\n",
    "#           {\n",
    "#             \"referenceID\": \"75a50e76\",\n",
    "#             \"referenceSource\": \"Remote Data Collection Upload Tool\"\n",
    "#           }\n",
    "#         ],\n",
    "#         \"formula\": \"a^2 + b^2 = c^2\",\n",
    "#         \"methodClass\": \"Measurement\",\n",
    "#         \"methodName\": \"Measuring Tape\",\n",
    "#         \"ontologyReference\": {\n",
    "#           \"documentationLinks\": [\n",
    "#             {\n",
    "#               \"URL\": \"http://purl.obolibrary.org/obo/ro.owl\",\n",
    "#               \"type\": \"OBO\"\n",
    "#             }\n",
    "#           ],\n",
    "#           \"ontologyDbId\": \"6b071868\",\n",
    "#           \"ontologyName\": \"The Crop Ontology\",\n",
    "#           \"version\": \"7.2.3\"\n",
    "#         },\n",
    "#         \"methodDbId\": \"0adb2764\"\n",
    "#       }\n",
    "#     ]\n",
    "#   }\n",
    "# }"
   ]
  },
  {
   "cell_type": "code",
   "execution_count": 22,
   "metadata": {},
   "outputs": [
    {
     "data": {
      "text/plain": [
       "{'id': 6000000004,\n",
       " 'name': '95th quantiles height Estimation from 3D Scanner',\n",
       " 'description': '1. remove the lowest points, assuming that these represent the ground, 2. compute the height below which 95% of the points occur',\n",
       " 'citation_id': 6000000008,\n",
       " 'created_at': '2016-11-08 16:45:58 -0600',\n",
       " 'updated_at': '2016-11-08 16:46:18 -0600',\n",
       " 'number of associated traits': 0,\n",
       " 'number of associated yields': 0,\n",
       " 'view_url': 'https://terraref.ncsa.illinois.edu/bety/methods/6000000004',\n",
       " 'edit_url': 'https://terraref.ncsa.illinois.edu/bety/methods/6000000004/edit'}"
      ]
     },
     "execution_count": 22,
     "metadata": {},
     "output_type": "execute_result"
    }
   ],
   "source": [
    "response_json['data'][1]['method']"
   ]
  },
  {
   "cell_type": "code",
   "execution_count": 23,
   "metadata": {},
   "outputs": [],
   "source": [
    "def get_citation(citation_id):\n",
    "    # Could make a request to an API, or look up in a dictionary\n",
    "    citation = {\n",
    "        'id': None,\n",
    "        'author': None,\n",
    "        'year': None\n",
    "    }\n",
    "    return citation"
   ]
  },
  {
   "cell_type": "code",
   "execution_count": 24,
   "metadata": {},
   "outputs": [],
   "source": [
    "def generate_brapi_dict(betydb_dict):\n",
    "    # print(betydb_dict)\n",
    "    method_name = betydb_dict['method']['name']\n",
    "    method_description = betydb_dict['method']['description']\n",
    "    method = {\n",
    "        'name': method_name,\n",
    "        'description': method_description\n",
    "    }\n",
    "    \n",
    "    citation_id = betydb_dict['method']['citation_id']\n",
    "    citation = get_citation(citation_id)\n",
    "    \n",
    "    # print(method_name)\n",
    "    brapi_dict = {\n",
    "        'method': method,\n",
    "        'citation': citation\n",
    "    }\n",
    "    return brapi_dict"
   ]
  },
  {
   "cell_type": "code",
   "execution_count": 25,
   "metadata": {},
   "outputs": [],
   "source": [
    "def generate_brapi_list(betydb_list):\n",
    "    brapi_list = []\n",
    "    for betydb_dict in betydb_list:\n",
    "        brapi_dict = generate_brapi_dict(betydb_dict)\n",
    "        brapi_list.append(brapi_dict)\n",
    "    return brapi_list"
   ]
  },
  {
   "cell_type": "code",
   "execution_count": 26,
   "metadata": {},
   "outputs": [],
   "source": [
    "brapi_list = generate_brapi_list(response_json['data'])"
   ]
  },
  {
   "cell_type": "code",
   "execution_count": 27,
   "metadata": {},
   "outputs": [
    {
     "data": {
      "text/plain": [
       "[{'method': {'name': 'PlantCV', 'description': ''},\n",
       "  'citation': {'id': None, 'author': None, 'year': None}},\n",
       " {'method': {'name': '95th quantiles height Estimation from 3D Scanner',\n",
       "   'description': '1. remove the lowest points, assuming that these represent the ground, 2. compute the height below which 95% of the points occur'},\n",
       "  'citation': {'id': None, 'author': None, 'year': None}}]"
      ]
     },
     "execution_count": 27,
     "metadata": {},
     "output_type": "execute_result"
    }
   ],
   "source": [
    "brapi_list[0:2]"
   ]
  },
  {
   "cell_type": "code",
   "execution_count": 28,
   "metadata": {},
   "outputs": [],
   "source": [
    "with open('data/processed/brapi_methods.json', 'w') as outfile:\n",
    "    json.dump(brapi_list, outfile)"
   ]
  },
  {
   "cell_type": "code",
   "execution_count": null,
   "metadata": {},
   "outputs": [],
   "source": []
  }
 ],
 "metadata": {
  "kernelspec": {
   "display_name": "jupyter-data-cleaning",
   "language": "python",
   "name": "jupyter-data-cleaning"
  },
  "language_info": {
   "codemirror_mode": {
    "name": "ipython",
    "version": 3
   },
   "file_extension": ".py",
   "mimetype": "text/x-python",
   "name": "python",
   "nbconvert_exporter": "python",
   "pygments_lexer": "ipython3",
   "version": "3.8.2"
  }
 },
 "nbformat": 4,
 "nbformat_minor": 2
}
